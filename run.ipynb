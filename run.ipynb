{
 "cells": [
  {
   "cell_type": "code",
   "execution_count": 3,
   "metadata": {},
   "outputs": [],
   "source": [
    "import os\n",
    "label_root = \"example\"\n",
    "for equ in os.listdir(label_root):\n",
    "    if equ.startswith('.'):\n",
    "        continue\n",
    "    for angle in os.listdir(os.path.join(label_root, equ)):\n",
    "        if angle.startswith('.'):\n",
    "            continue\n",
    "        idx = angle.split('.')[0]  \n",
    "        os.rename(os.path.join(label_root, equ, angle), os.path.join(label_root, equ, idx))\n",
    "    iidx = equ.split('.')[0]  \n",
    "    os.rename(os.path.join(label_root, equ), os.path.join(label_root, iidx))"
   ]
  },
  {
   "cell_type": "code",
   "execution_count": 13,
   "metadata": {},
   "outputs": [
    {
     "name": "stdout",
     "output_type": "stream",
     "text": [
      "target  cluster\n",
      "0       1          50\n",
      "1       0          48\n",
      "        2           2\n",
      "2       0          14\n",
      "        2          36\n",
      "Name: petal_width, dtype: int64\n"
     ]
    },
    {
     "name": "stderr",
     "output_type": "stream",
     "text": [
      "/home/jeongho/miniconda3/envs/dart/lib/python3.8/site-packages/sklearn/cluster/_kmeans.py:1412: FutureWarning: The default value of `n_init` will change from 10 to 'auto' in 1.4. Set the value of `n_init` explicitly to suppress the warning\n",
      "  super()._check_params_vs_input(X, default_n_init=10)\n"
     ]
    }
   ],
   "source": [
    "\n",
    "from sklearn.datasets import load_iris\n",
    "from sklearn.cluster import KMeans\n",
    "\n",
    "import pandas as pd\n",
    "\n",
    "kmeans = KMeans(n_clusters=3, init=\"k-means++\", max_iter=300, random_state=0)\n",
    "\n",
    "\n",
    "iris = load_iris()\n",
    "# 보다 편리한 데이터 Handling을 위해 DataFrame으로 변환\n",
    "irisDF = pd.DataFrame(\n",
    "    data=iris.data,\n",
    "    columns=[\"sepal_length\", \"sepal_width\", \"petal_length\", \"petal_width\"],\n",
    ")\n",
    "\n",
    "kmeans.fit(irisDF)\n",
    "irisDF[\"target\"] = (iris.target)\n",
    "irisDF[\"cluster\"] = kmeans.labels_ \n",
    "iris_result = irisDF.groupby([\"target\", \"cluster\"])[\"petal_width\"].count()\n",
    "print(iris_result)"
   ]
  }
 ],
 "metadata": {
  "kernelspec": {
   "display_name": "dart",
   "language": "python",
   "name": "python3"
  },
  "language_info": {
   "codemirror_mode": {
    "name": "ipython",
    "version": 3
   },
   "file_extension": ".py",
   "mimetype": "text/x-python",
   "name": "python",
   "nbconvert_exporter": "python",
   "pygments_lexer": "ipython3",
   "version": "3.8.10"
  },
  "orig_nbformat": 4
 },
 "nbformat": 4,
 "nbformat_minor": 2
}

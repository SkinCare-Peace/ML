{
 "cells": [
  {
   "cell_type": "code",
   "execution_count": 3,
   "metadata": {},
   "outputs": [],
   "source": [
    "import os\n",
    "label_root = \"example\"\n",
    "for equ in os.listdir(label_root):\n",
    "    if equ.startswith('.'):\n",
    "        continue\n",
    "    for angle in os.listdir(os.path.join(label_root, equ)):\n",
    "        if angle.startswith('.'):\n",
    "            continue\n",
    "        idx = angle.split('.')[0]  \n",
    "        os.rename(os.path.join(label_root, equ, angle), os.path.join(label_root, equ, idx))\n",
    "    iidx = equ.split('.')[0]  \n",
    "    os.rename(os.path.join(label_root, equ), os.path.join(label_root, iidx))"
   ]
  }
 ],
 "metadata": {
  "kernelspec": {
   "display_name": "dart",
   "language": "python",
   "name": "python3"
  },
  "language_info": {
   "codemirror_mode": {
    "name": "ipython",
    "version": 3
   },
   "file_extension": ".py",
   "mimetype": "text/x-python",
   "name": "python",
   "nbconvert_exporter": "python",
   "pygments_lexer": "ipython3",
   "version": "3.8.10"
  },
  "orig_nbformat": 4
 },
 "nbformat": 4,
 "nbformat_minor": 2
}
